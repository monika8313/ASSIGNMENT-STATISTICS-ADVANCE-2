{
  "nbformat": 4,
  "nbformat_minor": 0,
  "metadata": {
    "colab": {
      "provenance": []
    },
    "kernelspec": {
      "name": "python3",
      "display_name": "Python 3"
    },
    "language_info": {
      "name": "python"
    }
  },
  "cells": [
    {
      "cell_type": "markdown",
      "source": [
        "**Question 1: What is hypothesis testing in statistics?**\n",
        "\n",
        "ANSWER 1: Hypothesis testing is a fundamental concept in statistics used to make inferences or decisions about a population based on sample data. It provides a structured framework for evaluating claims or assumptions.\n",
        "\n",
        "Core Idea\n",
        "\n",
        "Hypothesis testing involves assessing whether the observed data provides enough evidence to reject a specific assumption (the null hypothesis) about a population parameter.\n",
        "\n",
        "\n",
        "Key Components\n",
        "\n",
        "• \tNull Hypothesis (H₀):\n",
        "The default assumption or claim to be tested. It often states that there is no effect or no difference.\n",
        "Example: H₀: μ = 50 (the population mean is 50)\n",
        "• \tAlternative Hypothesis (H₁ or Ha):\n",
        "The claim we want to test against the null. It suggests a change, effect, or difference.\n",
        "Example: H₁: μ ≠ 50 (the population mean is not 50)\n",
        "• \tTest Statistic:\n",
        "A value calculated from the sample data that helps determine whether to reject H₀. Common examples include z-scores, t-scores, and chi-square statistics.\n",
        "• \tSignificance Level (α):\n",
        "The threshold for rejecting H₀, often set at 0.05 or 0.01. It represents the probability of making a Type I error (rejecting a true H₀).\n",
        "• \tP-value:\n",
        "The probability of observing the test statistic or something more extreme, assuming H₀ is true.\n",
        "• \tIf p-value ≤ α: reject H₀\n",
        "• \tIf p-value > α: fail to reject H₀\n",
        "• \tDecision:\n",
        "Based on the p-value and α, you either reject or fail to reject the null hypothesis.\n",
        "\n",
        "\n",
        "Types of Errors\n",
        "\n",
        "• \tType I Error: Rejecting H₀ when it is actually true.\n",
        "• \tType II Error: Failing to reject H₀ when H₁ is actually true.\n",
        "\n",
        "\n",
        "Example Scenario\n",
        "\n",
        "Suppose a company claims its battery lasts 10 hours on average. You suspect it lasts less. You collect a sample and perform a hypothesis test:\n",
        "• \tH₀: μ = 10\n",
        "• \tH₁: μ < 10\n",
        "• \tYou calculate the test statistic and p-value.\n",
        "• \tIf p-value < 0.05, you reject H₀ and conclude the battery likely lasts less than 10 hours.\n",
        "\n"
      ],
      "metadata": {
        "id": "CTb2vz8UhA_s"
      }
    },
    {
      "cell_type": "markdown",
      "source": [
        "**Question 2: What is the null hypothesis, and how does it differ from the alternative\n",
        "hypothesis?**\n",
        "\n",
        "Answer 2:The null hypothesis and the alternative hypothesis are two opposing statements used in hypothesis testing to evaluate a claim about a population.\n",
        "\n",
        "\n",
        "Null Hypothesis (H₀)\n",
        "\n",
        "• \tDefinition:\n",
        "The null hypothesis is the default or initial assumption that there is no effect, no difference, or no relationship between variables.\n",
        "\n",
        "• \tPurpose:\n",
        "It serves as the benchmark against which the alternative hypothesis is tested.\n",
        "\n",
        "• \tExamples:\n",
        "• \tH₀: μ = 100 (the population mean is 100)\n",
        "• \tH₀: p = 0.5 (the population proportion is 0.5)\n",
        "• \tH₀: There is no difference in test scores between two teaching methods\n",
        "\n",
        "• \tInterpretation:\n",
        "If the data does not provide strong evidence against H₀, we fail to reject it.\n",
        "\n",
        "\n",
        "Alternative Hypothesis (H₁ or Ha)\n",
        "\n",
        "• \tDefinition:\n",
        "The alternative hypothesis is the statement you want to test. It suggests that there is an effect, a difference, or a relationship.\n",
        "\n",
        "• \tPurpose:\n",
        "It represents the claim or theory that contradicts the null hypothesis.\n",
        "\n",
        "• \tExamples:\n",
        "• \tH₁: μ ≠ 100 (the population mean is not 100)\n",
        "• \tH₁: p > 0.5 (the population proportion is greater than 0.5)\n",
        "• \tH₁: There is a difference in test scores between two teaching methods\n",
        "\n",
        "• \tInterpretation:\n",
        "If the data provides sufficient evidence, we reject H₀ in favor of H₁.\n",
        "\n",
        "\n",
        "Key Differences\n",
        "\n",
        "• \tRole:\n",
        "The null hypothesis (H₀) is the default assumption.\n",
        "The alternative hypothesis (H₁ or Ha) is the competing claim.\n",
        "\n",
        "• \tGoal:\n",
        "H₀ is tested and possibly rejected.\n",
        "H₁ is supported if H₀ is rejected.\n",
        "\n",
        "• \tStatement Type:\n",
        "H₀ typically uses equality signs (e.g., =, ≤, ≥).\n",
        "H₁ uses inequality signs (e.g., ≠, <, >).\n",
        "\n",
        "• \tBasis for Conclusion:\n",
        "H₀ is retained unless there is strong evidence against it.\n",
        "H₁ is accepted only if the evidence is strong enough to reject H₀."
      ],
      "metadata": {
        "id": "1f_INtlnpQ38"
      }
    },
    {
      "cell_type": "markdown",
      "source": [
        "**Question 3: Explain the significance level in hypothesis testing and its role in deciding\n",
        "the outcome of a test.**\n",
        "\n",
        "Answer 3:What Is the Significance Level?\n",
        "\n",
        "• \tDefinition:\n",
        "The significance level, denoted by α (alpha), is the probability of rejecting the null hypothesis when it is actually true. This is known as a Type I error.\n",
        "• \tTypical Values:\n",
        "Common choices for α include 0.05, 0.01, and 0.10. These represent a 5%, 1%, or 10% risk of making a Type I error, respectively.\n",
        "\n",
        "\n",
        "\n",
        "Role in Hypothesis Testing\n",
        "\n",
        "1. \tDecision Threshold:\n",
        "The significance level sets the threshold for the p-value. If the p-value is less than α, the null hypothesis is rejected.\n",
        "2. \tError Control:\n",
        "A smaller α reduces the likelihood of a Type I error but increases the risk of a Type II error (failing to reject a false null hypothesis).\n",
        "3. \tConfidence Level Relationship:\n",
        "The significance level complements the confidence level. For example, α = 0.05 corresponds to a 95% confidence level.\n",
        "\n",
        "\n",
        "\n",
        "Example\n",
        "\n",
        "Suppose you're testing whether a new teaching method improves student performance:\n",
        "• \tNull hypothesis (H₀): The new method has no effect\n",
        "• \tAlternative hypothesis (H₁): The new method improves performance\n",
        "You choose α = 0.05. After conducting the test, you obtain a p-value of 0.03.\n",
        "• \tSince 0.03 < 0.05, you reject the null hypothesis and conclude that the new method likely improves performance."
      ],
      "metadata": {
        "id": "D8KHuJixqRfv"
      }
    },
    {
      "cell_type": "markdown",
      "source": [
        "**Question 4: What are Type I and Type II errors? Give examples of each.**\n",
        "\n",
        "Answer 4:In hypothesis testing, Type I and Type II errors represent two kinds of incorrect conclusions that can be drawn from statistical tests.\n",
        "\n",
        "\n",
        "Type I Error (False Positive)\n",
        "\n",
        "• \tDefinition:\n",
        "Occurs when the null hypothesis is true, but we incorrectly reject it.\n",
        "• \tSymbol:\n",
        "The probability of making a Type I error is denoted by α (significance level).\n",
        "• \tExample:\n",
        "Suppose a medical test is used to detect a disease:\n",
        "• \tH₀: The patient does not have the disease\n",
        "• \tH₁: The patient has the disease\n",
        "A Type I error would mean the test says the patient has the disease when they actually do not.\n",
        "\n",
        "\n",
        "\n",
        "Type II Error (False Negative)\n",
        "• \tDefinition:\n",
        "Occurs when the null hypothesis is false, but we fail to reject it.\n",
        "• \tSymbol:\n",
        "The probability of making a Type II error is denoted by β.\n",
        "• \tExample:\n",
        "Using the same medical test:\n",
        "• \tH₀: The patient does not have the disease\n",
        "• \tH₁: The patient has the disease\n",
        "A Type II error would mean the test says the patient does not have the disease when they actually do.\n",
        "\n",
        "\n",
        "Summary Comparison\n",
        "\n",
        "• \tType I Error: Occurs when a true null hypothesis is rejected.\n",
        "Consequence: This results in a false alarm—concluding there is an effect when there isn't.\n",
        "\n",
        "• \tType II Error: Occurs when a false null hypothesis is not rejected.\n",
        "Consequence: This leads to a missed detection—failing to identify a real effect.\n"
      ],
      "metadata": {
        "id": "EA_KMLGWqwSM"
      }
    },
    {
      "cell_type": "markdown",
      "source": [
        "**Question 5: What is the difference between a Z-test and a T-test? Explain when to use\n",
        "each.**\n",
        "\n",
        "Answer 5:The Z-test and T-test are both statistical methods used to compare sample data against a population or between groups, but they differ in their assumptions and use cases.\n",
        "\n",
        "\n",
        "Z-test\n",
        "\n",
        "• \tDefinition:\n",
        "A Z-test is used when the population standard deviation is known and the sample size is large (typically n ≥ 30).\n",
        "\n",
        "\n",
        "\n",
        "• \tAssumptions:\n",
        "\n",
        "• \tThe data is normally distributed or the sample size is large enough for the Central Limit Theorem to apply\n",
        "• \tThe population standard deviation (σ) is known\n",
        "\n",
        "• \tCommon Uses:\n",
        "\n",
        "• \tComparing a sample mean to a known population mean\n",
        "• \tComparing proportions\n",
        "\n",
        "• \tLarge-sample hypothesis testing\n",
        "\n",
        "\n",
        "\n",
        "• \tExample:\n",
        "\n",
        "Testing whether the average height of a sample of 100 students differs from the known population average of 170 cm, assuming the population standard deviation is known.\n",
        "\n",
        "\n",
        "\n",
        "T-test\n",
        "\n",
        "• \tDefinition:\n",
        "\n",
        "A T-test is used when the population standard deviation is unknown and the sample size is small (typically n < 30).\n",
        "\n",
        "• \tAssumptions:\n",
        "\n",
        "• \tThe data is approximately normally distributed\n",
        "\n",
        "• \tThe population standard deviation is unknown\n",
        "\n",
        "• \tSample data is independent\n",
        "\n",
        "• \tTypes of T-tests:\n",
        "\n",
        "• \tOne-sample T-test: Compare sample mean to a known value\n",
        "\n",
        "• \tTwo-sample T-test: Compare means of two independent groups\n",
        "\n",
        "• \tPaired T-test: Compare means from the same group at different times\n",
        "\n",
        "\n",
        "• \tExample:\n",
        "\n",
        "Testing whether the average test score of 15 students differs from a benchmark score of 75, without knowing the population standard deviation.\n",
        "\n",
        "\n",
        "\n",
        "Summary of Differences\n",
        "\n",
        "• \tPopulation Standard Deviation Known: Use Z-test\n",
        "\n",
        "• \tPopulation Standard Deviation Unknown: Use T-test\n",
        "\n",
        "• \tLarge Sample Size (n ≥ 30): Z-test is appropriate\n",
        "\n",
        "• \tSmall Sample Size (n < 30): T-test is preferred"
      ],
      "metadata": {
        "id": "t8LRrKS6s8hg"
      }
    },
    {
      "cell_type": "markdown",
      "source": [
        "**Question 6: Write a Python program to generate a binomial distribution with n=10 and\n",
        "p=0.5, then plot its histogram.\n",
        "(Include your Python code and output in the code box below.)\n",
        "Hint: Generate random number using random function.**\n",
        "\n",
        "\n",
        "Answer 6:Here's a Python program that generates a binomial distribution with parameters n = 10 and p = 0.5, then plots its histogram using :"
      ],
      "metadata": {
        "id": "MjYuslNwuM6P"
      }
    },
    {
      "cell_type": "code",
      "source": [
        "import numpy as np\n",
        "import matplotlib.pyplot as plt\n",
        "\n",
        "# Parameters for the binomial distribution\n",
        "n = 10       # number of trials\n",
        "p = 0.5      # probability of success\n",
        "size = 1000  # number of random samples\n",
        "\n",
        "# Generate binomial distribution\n",
        "data = np.random.binomial(n=n, p=p, size=size)\n",
        "\n",
        "# Plot histogram\n",
        "plt.hist(data, bins=range(n+2), edgecolor='black', align='left')\n",
        "plt.title('Binomial Distribution Histogram (n=10, p=0.5)')\n",
        "plt.xlabel('Number of Successes')\n",
        "plt.ylabel('Frequency')\n",
        "plt.grid(True)\n",
        "plt.show()"
      ],
      "metadata": {
        "colab": {
          "base_uri": "https://localhost:8080/",
          "height": 472
        },
        "id": "XJZMfZyaumqc",
        "outputId": "58d86d27-78a0-493b-9791-7d63df9d72e4"
      },
      "execution_count": 1,
      "outputs": [
        {
          "output_type": "display_data",
          "data": {
            "text/plain": [
              "<Figure size 640x480 with 1 Axes>"
            ],
            "image/png": "[encoded data removed]"
          },
          "metadata": {}
        }
      ]
    },
    {
      "cell_type": "markdown",
      "source": [
        "Explanation:\n",
        "\n",
        "• \t generates  samples from a binomial distribution.\n",
        "\n",
        "• \t creates the histogram.\n",
        "\n",
        "• \t ensures each possible outcome from 0 to n is represented."
      ],
      "metadata": {
        "id": "Lb2818tGutrm"
      }
    },
    {
      "cell_type": "markdown",
      "source": [
        "**Question 7: Implement hypothesis testing using Z-statistics for a sample dataset in\n",
        "Python. Show the Python code and interpret the results.\n",
        "sample_data = [49.1, 50.2, 51.0, 48.7, 50.5, 49.8, 50.3, 50.7, 50.2, 49.6,\n",
        "50.1, 49.9, 50.8, 50.4, 48.9, 50.6, 50.0, 49.7, 50.2, 49.5,\n",
        "50.1, 50.3, 50.4, 50.5, 50.0, 50.7, 49.3, 49.8, 50.2, 50.9,\n",
        "50.3, 50.4, 50.0, 49.7, 50.5, 49.9]\n",
        "(Include your Python code and output in the code box below.)**\n",
        "\n",
        "\n",
        "Answer 7:To perform hypothesis testing using Z-statistics on the given sample data, we need to follow these steps:\n",
        "\n",
        "Step 1: Define the Hypotheses\n",
        "\n",
        "Suppose we want to test whether the sample comes from a population with a mean of μ = 50.\n",
        "\n",
        "• \tNull Hypothesis (H₀): μ = 50\n",
        "\n",
        "• \tAlternative Hypothesis (H₁): μ ≠ 50\n",
        "(two-tailed test)\n",
        "\n",
        "Assume the population standard deviation σ = 0.5 (required for Z-test).\n",
        "\n",
        "\n",
        "\n",
        "Step 2: Python Code"
      ],
      "metadata": {
        "id": "EU6Onf0Quz5M"
      }
    },
    {
      "cell_type": "code",
      "source": [
        "import numpy as np\n",
        "from scipy.stats import norm\n",
        "\n",
        "# Sample data\n",
        "sample_data = [\n",
        "    49.1, 50.2, 51.0, 48.7, 50.5, 49.8, 50.3, 50.7, 50.2, 49.6,\n",
        "    50.1, 49.9, 50.8, 50.4, 48.9, 50.6, 50.0, 49.7, 50.2, 49.5,\n",
        "    50.1, 50.3, 50.4, 50.5, 50.0, 50.7, 49.3, 49.8, 50.2, 50.9,\n",
        "    50.3, 50.4, 50.0, 49.7, 50.5, 49.9\n",
        "]\n",
        "\n",
        "# Parameters\n",
        "mu = 50            # hypothesized population mean\n",
        "sigma = 0.5        # known population standard deviation\n",
        "n = len(sample_data)\n",
        "\n",
        "# Sample statistics\n",
        "sample_mean = np.mean(sample_data)\n",
        "\n",
        "# Z-statistic\n",
        "z = (sample_mean - mu) / (sigma / np.sqrt(n))\n",
        "\n",
        "# Two-tailed p-value\n",
        "p_value = 2 * (1 - norm.cdf(abs(z)))\n",
        "\n",
        "# Output results\n",
        "print(f\"Sample Mean: {sample_mean:.4f}\")\n",
        "print(f\"Z-statistic: {z:.4f}\")\n",
        "print(f\"P-value: {p_value:.4f}\")\n",
        "\n",
        "# Interpretation\n",
        "alpha = 0.05\n",
        "if p_value < alpha:\n",
        "    print(\"Reject the null hypothesis: significant difference from μ = 50.\")\n",
        "else:\n",
        "    print(\"Fail to reject the null hypothesis: no significant difference from μ = 50.\")"
      ],
      "metadata": {
        "colab": {
          "base_uri": "https://localhost:8080/"
        },
        "id": "oRBfSMS5pOO8",
        "outputId": "cd09136e-b566-4fe1-d9fa-df9c2d6a263a"
      },
      "execution_count": 2,
      "outputs": [
        {
          "output_type": "stream",
          "name": "stdout",
          "text": [
            "Sample Mean: 50.0889\n",
            "Z-statistic: 1.0667\n",
            "P-value: 0.2861\n",
            "Fail to reject the null hypothesis: no significant difference from μ = 50.\n"
          ]
        }
      ]
    },
    {
      "cell_type": "markdown",
      "source": [
        "Step 3: Interpretation\n",
        "\n",
        "• \tThe Z-statistic measures how many standard errors the sample mean is away from the hypothesized mean.\n",
        "\n",
        "• \tThe p-value tells us the probability of observing such a sample mean (or more extreme) if the null hypothesis were true.\n",
        "\n",
        "• \tIf the p-value is less than the significance level (e.g., 0.05), we reject the null hypothesis.\n"
      ],
      "metadata": {
        "id": "DYNTY5AnvaMc"
      }
    },
    {
      "cell_type": "markdown",
      "source": [
        "**Question 8: Write a Python script to simulate data from a normal distribution and\n",
        "calculate the 95% confidence interval for its mean. Plot the data using Matplotlib.\n",
        "(Include your Python code and output in the code box below.)**\n",
        "\n",
        "ANSWER 8: Here's a complete Python script that simulates data from a normal distribution, calculates the 95% confidence interval for the mean, and plots the data using ."
      ],
      "metadata": {
        "id": "4P1A-vQQvf0l"
      }
    },
    {
      "cell_type": "code",
      "source": [
        "import numpy as np\n",
        "import matplotlib.pyplot as plt\n",
        "from scipy import stats\n",
        "\n",
        "# Step 1: Simulate data from a normal distribution\n",
        "np.random.seed(42)  # for reproducibility\n",
        "mu = 100            # true mean\n",
        "sigma = 15          # true standard deviation\n",
        "n = 100             # sample size\n",
        "\n",
        "data = np.random.normal(loc=mu, scale=sigma, size=n)\n",
        "\n",
        "# Step 2: Calculate sample mean and standard error\n",
        "sample_mean = np.mean(data)\n",
        "standard_error = stats.sem(data)  # standard error of the mean\n",
        "\n",
        "# Step 3: Calculate 95% confidence interval\n",
        "confidence = 0.95\n",
        "ci = stats.t.interval(confidence, df=n-1, loc=sample_mean, scale=standard_error)\n",
        "\n",
        "# Step 4: Print results\n",
        "print(f\"Sample Mean: {sample_mean:.2f}\")\n",
        "print(f\"95% Confidence Interval: ({ci[0]:.2f}, {ci[1]:.2f})\")\n",
        "\n",
        "# Step 5: Plot the data\n",
        "plt.hist(data, bins=15, edgecolor='black', alpha=0.7)\n",
        "plt.axvline(sample_mean, color='blue', linestyle='--', label='Sample Mean')\n",
        "plt.axvline(ci[0], color='red', linestyle='--', label='Lower Bound (95% CI)')\n",
        "plt.axvline(ci[1], color='red', linestyle='--', label='Upper Bound (95% CI)')\n",
        "plt.title('Histogram of Simulated Normal Data')\n",
        "plt.xlabel('Value')\n",
        "plt.ylabel('Frequency')\n",
        "plt.legend()\n",
        "plt.grid(True)\n",
        "plt.show()"
      ],
      "metadata": {
        "colab": {
          "base_uri": "https://localhost:8080/",
          "height": 507
        },
        "id": "RvkoSSLrveca",
        "outputId": "dc800c00-1928-4231-d84a-65322e2f066e"
      },
      "execution_count": 3,
      "outputs": [
        {
          "output_type": "stream",
          "name": "stdout",
          "text": [
            "Sample Mean: 98.44\n",
            "95% Confidence Interval: (95.74, 101.15)\n"
          ]
        },
        {
          "output_type": "display_data",
          "data": {
            "text/plain": [
              "<Figure size 640x480 with 1 Axes>"
            ],
            "image/png": "[encoded data removed]"
          },
          "metadata": {}
        }
      ]
    },
    {
      "cell_type": "markdown",
      "source": [
        "Explanation\n",
        "\n",
        "• \t generates normally distributed data.\n",
        "\n",
        "• \t computes the standard error.\n",
        "\n",
        "• \t calculates the confidence interval using the t-distribution.\n",
        "\n",
        "• \tThe plot shows the distribution, sample mean, and confidence bounds.\n"
      ],
      "metadata": {
        "id": "YQKr_EHqwBIG"
      }
    },
    {
      "cell_type": "markdown",
      "source": [
        "**Question 9: Write a Python function to calculate the Z-scores from a dataset and\n",
        "visualize the standardized data using a histogram. Explain what the Z-scores represent\n",
        "in terms of standard deviations from the mean.\n",
        "(Include your Python code and output in the code box below.)**\n",
        "\n",
        "\n",
        "Answer 9: Here's a Python function that calculates Z-scores from a dataset and visualizes the standardized data using a histogram. After the code, I’ll explain what Z-scores represent."
      ],
      "metadata": {
        "id": "I_PyLhlvwG_Z"
      }
    },
    {
      "cell_type": "code",
      "source": [
        "import numpy as np\n",
        "import matplotlib.pyplot as plt\n",
        "\n",
        "def calculate_and_plot_z_scores(data):\n",
        "    # Step 1: Calculate mean and standard deviation\n",
        "    mean = np.mean(data)\n",
        "    std_dev = np.std(data)\n",
        "\n",
        "    # Step 2: Calculate Z-scores\n",
        "    z_scores = [(x - mean) / std_dev for x in data]\n",
        "\n",
        "    # Step 3: Plot histogram of Z-scores\n",
        "    plt.hist(z_scores, bins=15, edgecolor='black', alpha=0.7)\n",
        "    plt.title('Histogram of Z-scores')\n",
        "    plt.xlabel('Z-score')\n",
        "    plt.ylabel('Frequency')\n",
        "    plt.grid(True)\n",
        "    plt.axvline(0, color='blue', linestyle='--', label='Mean (Z=0)')\n",
        "    plt.legend()\n",
        "    plt.show()\n",
        "\n",
        "    return z_scores\n",
        "\n",
        "# Example usage\n",
        "sample_data = np.random.normal(loc=50, scale=10, size=100)\n",
        "z_scores = calculate_and_plot_z_scores(sample_data)"
      ],
      "metadata": {
        "colab": {
          "base_uri": "https://localhost:8080/",
          "height": 472
        },
        "id": "CaZFG1HLwEZ1",
        "outputId": "dc49c7b1-7e55-4dc0-c775-ce1066f7220f"
      },
      "execution_count": 4,
      "outputs": [
        {
          "output_type": "display_data",
          "data": {
            "text/plain": [
              "<Figure size 640x480 with 1 Axes>"
            ],
            "image/png": "[encoded data removed]"
          },
          "metadata": {}
        }
      ]
    },
    {
      "cell_type": "markdown",
      "source": [
        "What Z-scores Represent\n",
        "\n",
        "• \tA Z-score indicates how many standard deviations a data point is from the mean of the dataset.\n",
        "\n",
        "• \tZ = 0: The value is exactly at the mean.\n",
        "\n",
        "• \tZ > 0: The value is above the mean.\n",
        "\n",
        "• \tZ < 0: The value is below the mean.\n",
        "\n",
        "• \tFor example:\n",
        "\n",
        "• \tZ = 1 means the value is one standard deviation above the mean.\n",
        "\n",
        "• \tZ = -2 means the value is two standard deviations below the mean.\n",
        "\n",
        "Z-scores are useful for comparing values across different distributions and for identifying outliers (typically Z-scores beyond ±2 or ±3)."
      ],
      "metadata": {
        "id": "AhxXl_2YwnUc"
      }
    },
    {
      "cell_type": "code",
      "source": [],
      "metadata": {
        "id": "p_6-1j45wu9C"
      },
      "execution_count": null,
      "outputs": []
    }
  ]
}